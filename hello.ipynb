{
 "cells": [
  {
   "cell_type": "code",
   "execution_count": 39,
   "id": "60bce35c-53dd-41a7-9819-bf1f9f41b201",
   "metadata": {},
   "outputs": [
    {
     "data": {
      "text/plain": [
       "'\\nPrograma Hello\\nDescrição: imprima na tela a frase ”Hello, World!”\\nAutor: Natane Fraga Lopes\\nData: 27/02/2025\\nVersão: 0.0.3\\nNovidades da versão:\\n\\n27/02/2025\\nNesta versão, o usuário poderá entrar com seu nome para ser cumprimentando pelo programa.\\n'"
      ]
     },
     "execution_count": 39,
     "metadata": {},
     "output_type": "execute_result"
    }
   ],
   "source": [
    "\"\"\"\n",
    "Programa Hello\n",
    "Descrição: imprima na tela a frase ”Hello, World!”\n",
    "Autor: Natane Fraga Lopes\n",
    "Data: 27/02/2025\n",
    "Versão: 0.0.4\n",
    "Novidades da versão:\n",
    "\n",
    "27/02/2025\n",
    "1. Nesta versão, o usuário poderá entrar com seu nome para ser cumprimentando pelo programa.\n",
    "2. Utilizamos f-strings para escrever um código mais limpo.\n",
    "\"\"\""
   ]
  },
  {
   "cell_type": "code",
   "execution_count": 70,
   "id": "8dcb4258-9af6-4b0d-8a6b-3418e3d48d23",
   "metadata": {},
   "outputs": [],
   "source": [
    "# Alocação de memória\n",
    "\n",
    "nome_usuario = \"\"\n",
    "frase = \"\""
   ]
  },
  {
   "cell_type": "code",
   "execution_count": 76,
   "id": "b0b0237e-fec6-47ee-a2bd-076d6e0c8885",
   "metadata": {},
   "outputs": [
    {
     "name": "stdin",
     "output_type": "stream",
     "text": [
      "Qual o seu nome:  Natane\n"
     ]
    }
   ],
   "source": [
    "# Entrada de dados\n",
    "\n",
    "nome_usuario = input(\"Qual o seu nome: \")"
   ]
  },
  {
   "cell_type": "code",
   "execution_count": 80,
   "id": "27f0d225-7c40-473a-8b97-263defc87391",
   "metadata": {},
   "outputs": [],
   "source": [
    "# Processamento de dados\n",
    "\n",
    "frase = f\"Hello, {nome_usuario}\""
   ]
  },
  {
   "cell_type": "code",
   "execution_count": 82,
   "id": "de62468b-9ba3-4009-b73e-c745f223cfef",
   "metadata": {},
   "outputs": [
    {
     "name": "stdout",
     "output_type": "stream",
     "text": [
      "Hello, Natane\n"
     ]
    }
   ],
   "source": [
    "# Saída de dados\n",
    "\n",
    "print(frase)"
   ]
  }
 ],
 "metadata": {
  "kernelspec": {
   "display_name": "Python [conda env:base] *",
   "language": "python",
   "name": "conda-base-py"
  },
  "language_info": {
   "codemirror_mode": {
    "name": "ipython",
    "version": 3
   },
   "file_extension": ".py",
   "mimetype": "text/x-python",
   "name": "python",
   "nbconvert_exporter": "python",
   "pygments_lexer": "ipython3",
   "version": "3.12.7"
  }
 },
 "nbformat": 4,
 "nbformat_minor": 5
}
